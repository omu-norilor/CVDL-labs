{
 "cells": [
  {
   "cell_type": "markdown",
   "metadata": {},
   "source": [
    "## Simple *numpy* exercise\n",
    "\n",
    "\n",
    "I am sure that you were already familiar with all the concepts presented above, but a short recap is always welcomed.\n",
    "\n",
    "\n",
    "Now let's do a very simple exercise with *numpy* arrays.\n",
    "\n",
    "\n",
    "In a (4, 7) *numpy* array we store data about the calorie intake and expenditure of a person throughout the week, as follows:\n",
    "- The rows specify the number of calories from protein sources, the number of calories from fat sources, the number of calories from carbohydrates sources and the calorie expenditure through physical activity, respectively.\n",
    "- The columns specify the day of the week for which the data were recorded.\n",
    "   \n",
    "Compute the following (without using any explicit for loop):\n",
    "- the total number of calories consumed each day;\n",
    "- the percentage of calories from protein sources and the percentage of calories from carbohydrates (as an array with 2 rows and 7 columns), rounded to two decimal places [numpy.around](https://numpy.org/doc/stable/reference/generated/numpy.around.html) );\n",
    "- the day in which the maximum number of calories were burned through physical activity;\n",
    "- the sum of calorie expenditure and calories from protein sources for each working day (the result with be an array with 5 elements);\n",
    "- the number of calories from protein sources, number of calories from fat sources, number of calories from carbohydrate sources and the calorie expenditure for the week as a (1, 4) array.\n"
   ]
  },
  {
   "cell_type": "code",
   "execution_count": 49,
   "metadata": {},
   "outputs": [
    {
     "name": "stdout",
     "output_type": "stream",
     "text": [
      "calories_per_day\n",
      "[ 980  645  890 1074  686  797  890] \n",
      "\n",
      "calories_per_week\n",
      "[ 975 1534 2296 1157] \n",
      "\n",
      "percentage of calories from protein and carbs\n",
      "[[1088.89  645.    523.53  537.    700.    477.25  593.33]\n",
      " [ 288.24  252.94  222.5   214.8   227.91  398.5   296.67]] \n",
      "\n",
      "max calories burned\n",
      "250 \n",
      "\n",
      "expenditure and protein sum\n",
      "[390 300 320 374 298] \n",
      "\n",
      "sum of all calories\n",
      "[ 975 1534 2296 1157] \n",
      "\n"
     ]
    }
   ],
   "source": [
    "import numpy as np\n",
    "\n",
    "# find a is what percent of b\n",
    "def percentage(a,b):\n",
    "    return a/b*100\n",
    "\n",
    "days = ['Monday', 'Tuesday', 'Wednesday', 'Thursday', 'Friday', 'Saturday', 'Sunday']\n",
    "statistics = np.array([\n",
    "                      [90, 100, 170, 200, 98, 167, 150], # calories from protein\n",
    "                      [300, 200, 150, 174, 200, 270, 240], # calories from fat\n",
    "                      [340, 255, 400, 500, 301, 200, 300],  # calories from carbs\n",
    "                      [250, 90, 170, 200, 87, 160, 200]]) # calorie expenditure\n",
    "\n",
    "## YOUR CODE HERE\n",
    "\n",
    "calories_per_day = np.sum(statistics, axis=0)\n",
    "print(\"calories_per_day\")\n",
    "print(calories_per_day, \"\\n\")\n",
    "\n",
    "protein_and_carbs = np.array([np.around(percentage(calories_per_day, statistics[0]),2),np.around(percentage(calories_per_day,statistics[2]),2)])\n",
    "print(\"percentage of calories from protein and carbs\")\n",
    "print(protein_and_carbs, \"\\n\")\n",
    "\n",
    "\n",
    "max_calories_burned = np.max(statistics[3])\n",
    "print(\"max calories burned\")\n",
    "print(max_calories_burned, \"\\n\")\n",
    "\n",
    "expenditure_and_protein_sum = np.sum(statistics[0:2,:5], axis=0)\n",
    "print(\"expenditure and protein sum\")\n",
    "print(expenditure_and_protein_sum, \"\\n\")\n",
    "\n",
    "sum_of_all_calories = np.sum(statistics, axis=1)\n",
    "print(\"sum of all calories\")    \n",
    "print(sum_of_all_calories, \"\\n\")\n",
    "## END YOUR CODE\n",
    "\n"
   ]
  },
  {
   "cell_type": "code",
   "execution_count": null,
   "metadata": {},
   "outputs": [],
   "source": []
  }
 ],
 "metadata": {
  "kernelspec": {
   "display_name": "Python 3",
   "language": "python",
   "name": "python3"
  },
  "language_info": {
   "codemirror_mode": {
    "name": "ipython",
    "version": 3
   },
   "file_extension": ".py",
   "mimetype": "text/x-python",
   "name": "python",
   "nbconvert_exporter": "python",
   "pygments_lexer": "ipython3",
   "version": "3.10.11"
  }
 },
 "nbformat": 4,
 "nbformat_minor": 2
}
